{
  "nbformat": 4,
  "nbformat_minor": 0,
  "metadata": {
    "colab": {
      "provenance": []
    },
    "kernelspec": {
      "name": "python3",
      "display_name": "Python 3"
    },
    "language_info": {
      "name": "python"
    }
  },
  "cells": [
    {
      "cell_type": "code",
      "source": [
        "#python program to check whether a number is armstrong or not"
      ],
      "metadata": {
        "id": "7bliss13RnF-"
      },
      "execution_count": 35,
      "outputs": []
    },
    {
      "cell_type": "code",
      "source": [
        "x=int(input(\"enter a number\"))\n",
        "y=x\n",
        "rev=0\n",
        "while x>0:\n",
        "  d=x%10\n",
        "  rev=rev+d**3\n",
        "  x=x//10\n",
        "if y==rev:\n",
        "  print(y,\"is a armsstrong no.\")\n",
        "else:\n",
        "  print(y,\"is not a armsstrong no.\")"
      ],
      "metadata": {
        "id": "XOmd3AI0RvpN"
      },
      "execution_count": null,
      "outputs": []
    }
  ]
}